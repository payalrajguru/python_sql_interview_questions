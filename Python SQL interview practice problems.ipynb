{
 "cells": [
  {
   "cell_type": "markdown",
   "id": "e349aff0",
   "metadata": {},
   "source": [
    "# Python Interview Practice Questions"
   ]
  },
  {
   "cell_type": "code",
   "execution_count": 2,
   "id": "8d50510e",
   "metadata": {
    "scrolled": true
   },
   "outputs": [
    {
     "name": "stdout",
     "output_type": "stream",
     "text": [
      "Enter the min : 5\n",
      "Enter the max : 10\n",
      "5\n",
      "7\n"
     ]
    }
   ],
   "source": [
    "#Format - 1\n",
    "\n",
    "minimum = int(input(\"Enter the min : \"))\n",
    "maximum = int(input(\"Enter the max : \"))\n",
    "\n",
    "for n in range(minimum,maximum + 1):\n",
    "    if n > 1:\n",
    "        for i in range(2,n):\n",
    "            if (n % i) == 0:\n",
    "                break\n",
    "        else:\n",
    "            print(n)"
   ]
  },
  {
   "cell_type": "code",
   "execution_count": 1,
   "id": "9565ad4b",
   "metadata": {},
   "outputs": [
    {
     "name": "stdout",
     "output_type": "stream",
     "text": [
      "Enter range:9\n",
      "Prime numbers: 1 2 3 5 7 "
     ]
    }
   ],
   "source": [
    "# Format - 2\n",
    "\n",
    "numr=int(input(\"Enter range:\"))\n",
    "\n",
    "print(\"Prime numbers:\",end=' ')\n",
    "\n",
    "for n in range(1,numr):\n",
    "\n",
    "    for i in range(2,n):\n",
    "\n",
    "        if(n%i==0):\n",
    "\n",
    "            break\n",
    "\n",
    "    else:\n",
    "\n",
    "        print(n,end=' ')  "
   ]
  },
  {
   "cell_type": "code",
   "execution_count": 2,
   "id": "1b2d06e3",
   "metadata": {},
   "outputs": [
    {
     "name": "stdout",
     "output_type": "stream",
     "text": [
      "[3, 5, 6, 8, 9]\n",
      "[2, 2, 3, 4, 5, 5, 5, 7]\n"
     ]
    }
   ],
   "source": [
    "# Sorting elements in the list\n",
    "# method - 1\n",
    "\n",
    "\n",
    "mylist = [5,8,9,6,3]\n",
    "\n",
    "\n",
    "for i in range(len(mylist)):\n",
    "    for j in range(i+1,len(mylist)):\n",
    "        if mylist[j] < mylist[i]:\n",
    "            mylist[i],mylist[j] = mylist[j],mylist[i]\n",
    "\n",
    "            \n",
    "            \n",
    "print(mylist)\n",
    "\n",
    "\n",
    "# method - 2\n",
    "\n",
    "mylist = [2,5,7,5,3,4,5,2]\n",
    "ass = []\n",
    "\n",
    "while mylist:\n",
    "    minimum = mylist[0]\n",
    "    for i in mylist:\n",
    "        if i < minimum:\n",
    "            minimum = i\n",
    "    ass.append(minimum)\n",
    "    mylist.remove(minimum)         \n",
    "\n",
    "print(ass)  "
   ]
  },
  {
   "cell_type": "code",
   "execution_count": null,
   "id": "50bcdb15",
   "metadata": {},
   "outputs": [],
   "source": [
    "# Find maximum number from an array\n",
    "\n",
    "arr = [5,4,3,6,9]\n",
    "\n",
    "maximum = arr[0]\n",
    "\n",
    "for i in arr:\n",
    "    if i>maximum:\n",
    "        maximum = i\n",
    "\n",
    "print(maximum)"
   ]
  },
  {
   "cell_type": "code",
   "execution_count": 7,
   "id": "6d22281d",
   "metadata": {},
   "outputs": [
    {
     "name": "stdout",
     "output_type": "stream",
     "text": [
      "[3, 5, 6, 8, 9]\n"
     ]
    }
   ],
   "source": [
    "# For accending\n",
    "\n",
    "mylist = [5,8,9,6,3]\n",
    "\n",
    "new = sorted(mylist)\n",
    "print(new)"
   ]
  },
  {
   "cell_type": "code",
   "execution_count": 8,
   "id": "72f1ba05",
   "metadata": {},
   "outputs": [
    {
     "name": "stdout",
     "output_type": "stream",
     "text": [
      "[9, 8, 6, 5, 3]\n"
     ]
    }
   ],
   "source": [
    "# For decending\n",
    "\n",
    "mylist = [5,8,9,6,3]\n",
    "\n",
    "new = sorted(mylist,reverse = True)\n",
    "print(new)"
   ]
  },
  {
   "cell_type": "code",
   "execution_count": 1,
   "id": "810b8337",
   "metadata": {},
   "outputs": [],
   "source": [
    "# find dublicate value and sort in accending order\n",
    "\n",
    "mylist = [2,5,7,5,3,4,5,2]\n",
    " \n",
    "\n",
    "def duplicate(mylist):\n",
    "    empty = []\n",
    "    ass = []\n",
    "\n",
    "    for i in mylist:\n",
    "        if i not in empty:\n",
    "            empty.append(i)\n",
    "    \n",
    "    while empty:\n",
    "        minimum = empty[0]\n",
    "        for i in empty:\n",
    "            if i < minimum:\n",
    "                minimum = i\n",
    "        ass.append(minimum)\n",
    "        empty.remove(minimum) \n",
    "    return ass        \n",
    "\n"
   ]
  },
  {
   "cell_type": "code",
   "execution_count": 2,
   "id": "f7b4b4c6",
   "metadata": {},
   "outputs": [
    {
     "data": {
      "text/plain": [
       "[2, 3, 4, 5, 7]"
      ]
     },
     "execution_count": 2,
     "metadata": {},
     "output_type": "execute_result"
    }
   ],
   "source": [
    "duplicate([2,5,7,5,3,4,5,2])"
   ]
  },
  {
   "cell_type": "code",
   "execution_count": 1,
   "id": "c2e5bcb7",
   "metadata": {},
   "outputs": [
    {
     "name": "stdout",
     "output_type": "stream",
     "text": [
      "[3, 5, 6, 8, 9]\n"
     ]
    }
   ],
   "source": [
    "# sorting list in ascending order\n",
    "\n",
    "mylist = [5,8,9,6,3]\n",
    "\n",
    "\n",
    "empty = []\n",
    "\n",
    "while mylist:\n",
    "    minimum = mylist[0]\n",
    "    for i in mylist:\n",
    "        if i < minimum:\n",
    "            minimum = i\n",
    "    empty.append(minimum)\n",
    "    mylist.remove(minimum)\n",
    "\n",
    "print(empty)    \n"
   ]
  },
  {
   "cell_type": "code",
   "execution_count": 19,
   "id": "adae74fb",
   "metadata": {},
   "outputs": [
    {
     "name": "stdout",
     "output_type": "stream",
     "text": [
      "Second largest element is: 45\n"
     ]
    }
   ],
   "source": [
    "# Python program to find second largest number\n",
    "# in a list\n",
    " \n",
    "# List of numbers\n",
    "list1 = [10, 20, 20, 4, 45, 45, 45, 99, 99]\n",
    " \n",
    "# Removing duplicates from the list\n",
    "list2 = list(set(list1))\n",
    " \n",
    "# Sorting the  list if possible use above method to sort\n",
    "list2.sort()\n",
    " \n",
    "# Printing the second last element\n",
    "print(\"Second largest element is:\", list2[-2])"
   ]
  },
  {
   "cell_type": "code",
   "execution_count": 2,
   "id": "735d8742",
   "metadata": {},
   "outputs": [
    {
     "name": "stdout",
     "output_type": "stream",
     "text": [
      "0, 34\n"
     ]
    }
   ],
   "source": [
    "# Fabonacci series\n",
    "\n",
    "\n",
    "def fab(n):\n",
    "    if n == 0 :\n",
    "        return 0\n",
    "    elif n==1:\n",
    "        return 1\n",
    "    elif n==2:\n",
    "        return 1\n",
    "    else:\n",
    "        return fab(n-1)+fab(n-2)\n",
    "    \n",
    "for i in range(1):\n",
    "    print(fab(i), end = ', ') \n",
    "    \n",
    "    \n",
    "    \n",
    "# Function for nth Fibonacci number\n",
    "def Fibonacci(n):\n",
    "   \n",
    "    # Check if input is 0 then it will\n",
    "    # print incorrect input\n",
    "    if n < 0:\n",
    "        print(\"Incorrect input\")\n",
    " \n",
    "    # Check if n is 0\n",
    "    # then it will return 0\n",
    "    elif n == 0:\n",
    "        return 0\n",
    " \n",
    "    # Check if n is 1,2\n",
    "    # it will return 1\n",
    "    elif n == 1 or n == 2:\n",
    "        return 1\n",
    " \n",
    "    else:\n",
    "        return Fibonacci(n-1) + Fibonacci(n-2)\n",
    " \n",
    "# Driver Program\n",
    "print(Fibonacci(9))\n",
    "     "
   ]
  },
  {
   "cell_type": "code",
   "execution_count": 20,
   "id": "b0444124",
   "metadata": {},
   "outputs": [
    {
     "name": "stdout",
     "output_type": "stream",
     "text": [
      "[9, 8, 6, 5, 3]\n"
     ]
    }
   ],
   "source": [
    "# Print list in decending order\n",
    "\n",
    "mylist = [5,8,9,6,3]\n",
    "\n",
    "empty = []\n",
    "\n",
    "while mylist:\n",
    "    maximum = mylist[0]\n",
    "    for i in mylist:\n",
    "        if i>maximum:\n",
    "            maximum = i\n",
    "    empty.append(maximum)\n",
    "    mylist.remove(maximum)\n",
    "    \n",
    "    \n",
    "print(empty)    "
   ]
  },
  {
   "cell_type": "code",
   "execution_count": 22,
   "id": "d2f527f0",
   "metadata": {},
   "outputs": [
    {
     "name": "stdout",
     "output_type": "stream",
     "text": [
      "[3, 6, 9, 8, 5]\n"
     ]
    }
   ],
   "source": [
    "# Reversing the list\n",
    "\n",
    "mylist = [5,8,9,6,3]\n",
    "new = mylist[::-1]\n",
    "print(new)"
   ]
  },
  {
   "cell_type": "code",
   "execution_count": 25,
   "id": "3a3ee141",
   "metadata": {},
   "outputs": [
    {
     "name": "stdout",
     "output_type": "stream",
     "text": [
      "Its palindrome\n"
     ]
    }
   ],
   "source": [
    "# Checking string is palindrome or not\n",
    "\n",
    "mystring = 'malam'\n",
    "\n",
    "new = mystring[::-1]\n",
    "\n",
    "if mystring==new:\n",
    "    print('Its palindrome')\n",
    "else:\n",
    "    print('Its not palindrome')\n",
    "    \n",
    "\n"
   ]
  },
  {
   "cell_type": "code",
   "execution_count": 17,
   "id": "fff7f0a0",
   "metadata": {},
   "outputs": [
    {
     "name": "stdout",
     "output_type": "stream",
     "text": [
      "Its palindrom\n"
     ]
    }
   ],
   "source": [
    "# without indexing\n",
    "\n",
    "my_string= \"mam\"\n",
    "\n",
    "string=\"\"\n",
    "\n",
    "for i in my_string:\n",
    "    string = i + string\n",
    "    \n",
    "if my_string == string:\n",
    "    print('Its palindrom')\n",
    "else:\n",
    "    print('Its not palindrom')"
   ]
  },
  {
   "cell_type": "code",
   "execution_count": 3,
   "id": "ec028db0",
   "metadata": {},
   "outputs": [
    {
     "name": "stdout",
     "output_type": "stream",
     "text": [
      "{1, 3, 6}\n",
      "{1, 3, 6}\n"
     ]
    }
   ],
   "source": [
    "# Find the duplicate number in mylist\n",
    "\n",
    "mylist = [1,1,1,1,2,3,3,6,9,7,6]\n",
    "\n",
    "print(set([x for x in mylist if mylist.count(x)>1]))\n",
    "\n",
    "\n",
    "# Using long-method\n",
    "\n",
    "empty = []\n",
    "\n",
    "for i in mylist:\n",
    "    if mylist.count(i)>1:\n",
    "        empty.append(i)\n",
    "        \n",
    "print(set(empty))        "
   ]
  },
  {
   "cell_type": "code",
   "execution_count": 32,
   "id": "a1f230e2",
   "metadata": {},
   "outputs": [
    {
     "data": {
      "text/plain": [
       "10"
      ]
     },
     "execution_count": 32,
     "metadata": {},
     "output_type": "execute_result"
    }
   ],
   "source": [
    "# Number of words in a given sentense\n",
    "\n",
    "mystring = 'Maintaining & expending the database of prospects for the organization.'\n",
    "\n",
    "len(mystring.split())\n",
    "\n",
    "    "
   ]
  },
  {
   "cell_type": "code",
   "execution_count": 36,
   "id": "9ea5ef89",
   "metadata": {},
   "outputs": [
    {
     "name": "stdout",
     "output_type": "stream",
     "text": [
      "Enter the number you want to find : 5\n",
      "number found\n"
     ]
    }
   ],
   "source": [
    "# find a number in a list whether it is present or not\n",
    "\n",
    "find = int(input('Enter the number you want to find : '))\n",
    "\n",
    "mylist = [5,8,9,6,3]\n",
    "\n",
    "if find in mylist:\n",
    "    print('number found')\n",
    "else :\n",
    "    print('number not found')"
   ]
  },
  {
   "cell_type": "code",
   "execution_count": 3,
   "id": "185bd9f6",
   "metadata": {},
   "outputs": [
    {
     "name": "stdout",
     "output_type": "stream",
     "text": [
      "123451234512345\n"
     ]
    }
   ],
   "source": [
    "# extract digit from a given string\n",
    "\n",
    "mystring = 'Maintaining 12345 & expending 12345 the database of prospects for 12345 the organization'\n",
    "\n",
    "digit = ''\n",
    "\n",
    "for i in mystring:\n",
    "    if i.isdigit()==True:\n",
    "        digit = digit + i\n",
    "        \n",
    "print(digit)"
   ]
  },
  {
   "cell_type": "code",
   "execution_count": 45,
   "id": "91c030f7",
   "metadata": {},
   "outputs": [
    {
     "data": {
      "text/plain": [
       "['Maintaining',\n",
       " '12345',\n",
       " '&',\n",
       " 'expending',\n",
       " '12345',\n",
       " 'the',\n",
       " 'database',\n",
       " 'of',\n",
       " 'prospects',\n",
       " 'for',\n",
       " '12345',\n",
       " 'the',\n",
       " 'organization']"
      ]
     },
     "execution_count": 45,
     "metadata": {},
     "output_type": "execute_result"
    }
   ],
   "source": [
    "# convert the string into words\n",
    "\n",
    "mystring = 'Maintaining 12345 & expending 12345 the database of prospects for 12345 the organization'\n",
    "\n",
    "mystring.rstrip().split(' ')"
   ]
  },
  {
   "cell_type": "code",
   "execution_count": 4,
   "id": "ebb87c71",
   "metadata": {},
   "outputs": [
    {
     "name": "stdout",
     "output_type": "stream",
     "text": [
      "1221\n",
      "1221\n",
      "palindrom\n"
     ]
    }
   ],
   "source": [
    "# Check whether a number is palindrome\n",
    "\n",
    "num = 1221\n",
    "\n",
    "temp = num\n",
    "\n",
    "\n",
    "rev = 0\n",
    "\n",
    "while (num>0):\n",
    "    rem = num%10\n",
    "    \n",
    "    rev = rev*10+ rem\n",
    "    \n",
    "    # use to add digit in last suppose in 34 we want  \n",
    "    # to make 345 then what we do multiply 34 by 10 then add 5\n",
    "    \n",
    "    num = num //10  # Use to access quotient   \n",
    "\n",
    "print(rev)\n",
    "print(temp)\n",
    "    \n",
    "if temp==rev:\n",
    "    print(\"palindrom\")\n",
    "else :\n",
    "    print(\"Not Palindrom\")\n",
    "    "
   ]
  },
  {
   "cell_type": "code",
   "execution_count": 63,
   "id": "674f0609",
   "metadata": {},
   "outputs": [
    {
     "name": "stdout",
     "output_type": "stream",
     "text": [
      "1221\n",
      "1221\n",
      "2809952307920\n",
      "2809952307920\n",
      "1222\n",
      "1221\n",
      "2809952307536\n",
      "2809952307920\n"
     ]
    }
   ],
   "source": [
    "# Very important suppose we are saving some number with varaible and that variable\n",
    "# is assign to some new variable so if you make changes in old variable no change will happen \n",
    "# in newly assign variable because string and integer are immutable\n",
    "\n",
    "num = 1221\n",
    "print(num)\n",
    "\n",
    "temp = num\n",
    "print(temp)\n",
    "\n",
    "print(id(num))\n",
    "print(id(temp))\n",
    "\n",
    "num = num+1\n",
    "\n",
    "print(num)\n",
    "print(temp)\n",
    "\n",
    "print(id(num))\n",
    "print(id(temp))"
   ]
  },
  {
   "cell_type": "code",
   "execution_count": 72,
   "id": "c2056234",
   "metadata": {},
   "outputs": [
    {
     "name": "stdout",
     "output_type": "stream",
     "text": [
      "0\n",
      "1\n",
      "2\n",
      "6\n",
      "24\n"
     ]
    }
   ],
   "source": [
    "# Factorial of a number\n",
    "\n",
    "def fact(num):\n",
    "    if num<0:\n",
    "        return \"number invalid\"\n",
    "    elif num == 1:\n",
    "        return 1\n",
    "    \n",
    "    elif num == 0:\n",
    "        return 0\n",
    "    else:\n",
    "        return num * fact(num-1)\n",
    "\n",
    "# find the factorial series    \n",
    "    \n",
    "for i in range(5):\n",
    "    print(fact(i))"
   ]
  },
  {
   "cell_type": "code",
   "execution_count": 71,
   "id": "740371c5",
   "metadata": {},
   "outputs": [
    {
     "data": {
      "text/plain": [
       "6"
      ]
     },
     "execution_count": 71,
     "metadata": {},
     "output_type": "execute_result"
    }
   ],
   "source": [
    "fact(3)"
   ]
  },
  {
   "cell_type": "code",
   "execution_count": 17,
   "id": "8ddce6d8",
   "metadata": {},
   "outputs": [
    {
     "name": "stdout",
     "output_type": "stream",
     "text": [
      "24\n"
     ]
    }
   ],
   "source": [
    "# Factoorial without recurrance\n",
    "\n",
    "num = 4\n",
    "fact = 1\n",
    "\n",
    "if num < 0:\n",
    "    print(\"please enter valid number\")\n",
    "elif num == 0:\n",
    "    print(0)\n",
    "elif num ==1 :\n",
    "    print(1) \n",
    "else:\n",
    "    for i in range(2,num+1):\n",
    "        fact = fact*i\n",
    "    print(fact)        "
   ]
  },
  {
   "cell_type": "code",
   "execution_count": 7,
   "id": "2a2c3cc6",
   "metadata": {},
   "outputs": [
    {
     "name": "stdout",
     "output_type": "stream",
     "text": [
      "Enter a number : 153\n",
      "Its Amstrong Number\n"
     ]
    }
   ],
   "source": [
    "# amstrong mumber\n",
    "\n",
    "num = int(input(\"Enter a number : \"))\n",
    "temp = num\n",
    "\n",
    "add = 0\n",
    "\n",
    "while temp > 0 :\n",
    "    rem = temp%10\n",
    "    add = add + rem**3\n",
    "    temp = temp//10\n",
    "\n",
    "    \n",
    "if num == add:\n",
    "    print('Its Amstrong Number')\n",
    "else:\n",
    "    print('Its Not Amstrong')"
   ]
  },
  {
   "cell_type": "code",
   "execution_count": 1,
   "id": "33d46efa",
   "metadata": {},
   "outputs": [
    {
     "name": "stdout",
     "output_type": "stream",
     "text": [
      "5\n"
     ]
    }
   ],
   "source": [
    "# Find the length of array without using len function\n",
    "\n",
    "arr = [1,5,9,6,3]\n",
    "\n",
    "counter = 0\n",
    "\n",
    "for i in arr:\n",
    "    counter = counter + 1\n",
    "    \n",
    "print(counter) \n"
   ]
  },
  {
   "cell_type": "code",
   "execution_count": 3,
   "id": "02f8df8a",
   "metadata": {},
   "outputs": [
    {
     "name": "stdout",
     "output_type": "stream",
     "text": [
      "GEEK before clear: [6, 0, 4, 1]\n",
      "GEEK after clear: []\n"
     ]
    }
   ],
   "source": [
    "# Python program to clear a list\n",
    "# using clear() method \n",
    "  \n",
    "# Creating list\n",
    "GEEK = [6, 0, 4, 1]\n",
    "print('GEEK before clear:', GEEK) \n",
    "  \n",
    "# Clearing list \n",
    "GEEK.clear() \n",
    "print('GEEK after clear:', GEEK)"
   ]
  },
  {
   "cell_type": "code",
   "execution_count": null,
   "id": "6aa716a6",
   "metadata": {},
   "outputs": [],
   "source": [
    "# Remove the empty list from list\n",
    "\n",
    "test_list = [5, 6, [], 3, [], [], 9]\n",
    " \n",
    "# printing original list\n",
    "print(\"The original list is : \" + str(test_list))\n",
    " \n",
    "# Remove empty List from List\n",
    "# using list comprehension\n",
    "res = [ele for ele in test_list if ele != []]\n",
    " \n",
    "# printing result\n",
    "print(\"List after empty list removal : \" + str(res))"
   ]
  },
  {
   "cell_type": "code",
   "execution_count": 24,
   "id": "a822a910",
   "metadata": {},
   "outputs": [
    {
     "name": "stdout",
     "output_type": "stream",
     "text": [
      "*\n",
      "**\n",
      "***\n",
      "****\n",
      "*****\n"
     ]
    }
   ],
   "source": [
    "# right angle triangle\n",
    "\n",
    "num = 5\n",
    "\n",
    "for i in range(1,num+1):\n",
    "    for j in range(i):\n",
    "        print('*',end='')\n",
    "    print()    "
   ]
  },
  {
   "cell_type": "code",
   "execution_count": 2,
   "id": "2a6f9d8d",
   "metadata": {},
   "outputs": [
    {
     "name": "stdout",
     "output_type": "stream",
     "text": [
      "1 \n",
      "1 2 \n",
      "1 2 3 \n",
      "1 2 3 4 \n",
      "1 2 3 4 5 \n"
     ]
    }
   ],
   "source": [
    "num = 5\n",
    "\n",
    "for i in range(1,num+1):\n",
    "    for j in range(i):\n",
    "        print(j+1,end=' ')\n",
    "    print()    "
   ]
  },
  {
   "cell_type": "code",
   "execution_count": 1,
   "id": "bc83f629",
   "metadata": {},
   "outputs": [
    {
     "name": "stdout",
     "output_type": "stream",
     "text": [
      "* * * * * \n",
      "* * * * \n",
      "* * * \n",
      "* * \n",
      "* \n"
     ]
    }
   ],
   "source": [
    "num = 5\n",
    "\n",
    "for i in range(1,num+1):\n",
    "    for j in range((num-i)+1):\n",
    "        print('*',end=' ')\n",
    "    print()    "
   ]
  },
  {
   "cell_type": "code",
   "execution_count": 11,
   "id": "c114fe95",
   "metadata": {},
   "outputs": [
    {
     "name": "stdout",
     "output_type": "stream",
     "text": [
      "1 2 3 4 5 \n",
      "1 2 3 4 \n",
      "1 2 3 \n",
      "1 2 \n",
      "1 \n"
     ]
    }
   ],
   "source": [
    "num = 5\n",
    "\n",
    "for i in range(1,num+1):\n",
    "    for j in range((num-i)+1):\n",
    "        print(j+1,end=' ')\n",
    "    print()  "
   ]
  },
  {
   "cell_type": "code",
   "execution_count": 1,
   "id": "037af814",
   "metadata": {},
   "outputs": [
    {
     "name": "stdout",
     "output_type": "stream",
     "text": [
      "Enter number of rows: 5\n",
      "        * \n",
      "      * * * \n",
      "    * * * * * \n",
      "  * * * * * * * \n",
      "* * * * * * * * * \n"
     ]
    }
   ],
   "source": [
    "# Creating star pyramid\n",
    "\n",
    "rows = int(input(\"Enter number of rows: \"))\n",
    "\n",
    "k = 0\n",
    "\n",
    "for i in range(1, rows+1):\n",
    "    for space in range(1, (rows-i)+1):\n",
    "        print(end=\"  \")\n",
    "   \n",
    "    while k!=(2*i-1):\n",
    "        print(\"* \", end=\"\")\n",
    "        k += 1\n",
    "   \n",
    "    k = 0\n",
    "    print()"
   ]
  },
  {
   "cell_type": "code",
   "execution_count": 38,
   "id": "a78bb8c0",
   "metadata": {},
   "outputs": [
    {
     "name": "stdout",
     "output_type": "stream",
     "text": [
      "Enter a number : 66666\n",
      "Not leap year\n"
     ]
    }
   ],
   "source": [
    "# finding the leap year\n",
    "\n",
    "num = int(input('Enter a number : '))\n",
    "\n",
    "if num % 4 == 0:\n",
    "    print('leap year')\n",
    "elif num % 400 == 0:\n",
    "    print('leap year')  \n",
    "elif num % 100 == 0:\n",
    "    print('Not leap year')\n",
    "else:\n",
    "    print('Not leap year')\n",
    "    "
   ]
  },
  {
   "cell_type": "code",
   "execution_count": 5,
   "id": "d92ba9de",
   "metadata": {},
   "outputs": [
    {
     "name": "stdout",
     "output_type": "stream",
     "text": [
      "Enter a number : 7\n",
      "Its prime number\n"
     ]
    }
   ],
   "source": [
    "# prime number\n",
    "\n",
    "num = int(input('Enter a number : '))\n",
    "flag = 0\n",
    "\n",
    "for i in range(2,num):\n",
    "    if num%i == 0:\n",
    "        flag = flag + 1\n",
    "        \n",
    "if flag==0:\n",
    "    print('Its prime number')\n",
    "else:\n",
    "    print('Not Prime')\n",
    "    \n",
    "        \n",
    "        \n"
   ]
  },
  {
   "cell_type": "code",
   "execution_count": 6,
   "id": "bd7e538d",
   "metadata": {},
   "outputs": [
    {
     "name": "stdout",
     "output_type": "stream",
     "text": [
      "Enter a number : 7\n",
      "Its prime number\n"
     ]
    }
   ],
   "source": [
    "# optimized code\n",
    "\n",
    "num = int(input('Enter a number : '))\n",
    "flag = 0\n",
    "\n",
    "for i in range(2,int(num/2)+1):\n",
    "    if num%i == 0:\n",
    "        flag = flag + 1\n",
    "        \n",
    "if flag==0:\n",
    "    print('Its prime number')\n",
    "else:\n",
    "    print('Not Prime')\n",
    "    \n",
    "        \n",
    "        \n"
   ]
  },
  {
   "cell_type": "code",
   "execution_count": 53,
   "id": "310c7630",
   "metadata": {},
   "outputs": [
    {
     "name": "stdout",
     "output_type": "stream",
     "text": [
      "Enter a number : 999999937\n",
      "Its prime number\n"
     ]
    }
   ],
   "source": [
    "# optimized code\n",
    "\n",
    "num = int(input('Enter a number : '))\n",
    "flag = 0\n",
    "\n",
    "for i in range(2,(int(num**0.5)+1)):\n",
    "    if num%i == 0:\n",
    "        flag = flag + 1\n",
    "        \n",
    "if flag==0:\n",
    "    print('Its prime number')\n",
    "else:\n",
    "    print('Not Prime')\n",
    "    \n",
    "        \n",
    "        \n"
   ]
  },
  {
   "cell_type": "code",
   "execution_count": 54,
   "id": "e6b0f4d8",
   "metadata": {},
   "outputs": [
    {
     "name": "stdout",
     "output_type": "stream",
     "text": [
      "[5, 4, 3, 2, 1]\n"
     ]
    }
   ],
   "source": [
    "# Reversing a list\n",
    "\n",
    "mylist = [1,2,3,4,5]\n",
    "\n",
    "a = mylist[::-1]\n",
    "\n",
    "print(a)"
   ]
  },
  {
   "cell_type": "code",
   "execution_count": 59,
   "id": "9db6b245",
   "metadata": {},
   "outputs": [
    {
     "name": "stdout",
     "output_type": "stream",
     "text": [
      "[5, 4, 3, 2, 1]\n"
     ]
    }
   ],
   "source": [
    "# Reversing a list\n",
    "\n",
    "mylist = [1,2,3,4,5]\n",
    "\n",
    "for i in range(int(len(mylist)/2)):\n",
    "    mylist[i],mylist[len(mylist)-i-1] = mylist[len(mylist)-i-1],mylist[i]\n",
    "\n",
    "    \n",
    "print(mylist)    "
   ]
  },
  {
   "cell_type": "code",
   "execution_count": 6,
   "id": "882ff0d5",
   "metadata": {},
   "outputs": [
    {
     "name": "stdout",
     "output_type": "stream",
     "text": [
      "Enter a number5\n",
      "12345"
     ]
    }
   ],
   "source": [
    "#Print the list of integers from  through  as a string, without spaces.\n",
    "\n",
    "num = int(input('Enter a number'))\n",
    "\n",
    "for i in range(1,num+1):\n",
    "    print(str(i),end='')\n",
    "\n",
    "    "
   ]
  },
  {
   "cell_type": "code",
   "execution_count": 4,
   "id": "e67ff659",
   "metadata": {},
   "outputs": [
    {
     "name": "stdout",
     "output_type": "stream",
     "text": [
      "{'H': 1, 'e': 5, 'l': 2, 'o': 6, ' ': 3, 'v': 1, 'r': 2, 'y': 1, 'n': 3, ',': 1, 'g': 1, 'd': 1, 'a': 1, 'f': 1, 't': 1}\n",
      "{'key': 'o', 'value': 6}\n"
     ]
    }
   ],
   "source": [
    "# Count of maximum occouring letter and number of times it is repeated\n",
    "\n",
    "mystring = 'Hello everyone, good afternoon'\n",
    "\n",
    "mydict = {}\n",
    "\n",
    "for i in mystring:\n",
    "    if i in mydict:\n",
    "        mydict[i] = mydict[i] + 1\n",
    "    else:\n",
    "        mydict[i] = 1\n",
    "\n",
    "print(mydict)\n",
    "\n",
    "\n",
    "mylist = []\n",
    "new_dict = {'key':'a','value':0}\n",
    "\n",
    "for i in mydict:\n",
    "    if mydict[i] > new_dict['value']:\n",
    "        new_dict['key'] = i\n",
    "        new_dict['value'] = mydict[i]\n",
    "\n",
    "print(new_dict)    \n"
   ]
  },
  {
   "cell_type": "code",
   "execution_count": 1,
   "id": "f02a0533",
   "metadata": {},
   "outputs": [
    {
     "name": "stdout",
     "output_type": "stream",
     "text": [
      "Enter a binary number : 100010000\n",
      "4\n"
     ]
    }
   ],
   "source": [
    "# maximum occourance of 0's in a string\n",
    "\n",
    "string = input('Enter a binary number : ')\n",
    "\n",
    "mylist = []\n",
    "\n",
    "for i in string.split('1'):\n",
    "    mylist.append(len(i))\n",
    "    \n",
    "print(max(mylist))\n"
   ]
  },
  {
   "cell_type": "markdown",
   "id": "a980fb32",
   "metadata": {},
   "source": [
    "# SQL Questions"
   ]
  },
  {
   "cell_type": "code",
   "execution_count": null,
   "id": "5845dc3d",
   "metadata": {},
   "outputs": [],
   "source": [
    "# Creating database and table\n",
    "\n",
    "CREATE DATABASE IF NOT EXIST MYSQL;\n",
    "\n",
    "USE MYSQL;\n",
    "\n",
    "DESCRIBE MYSQL;\n",
    "\n",
    "CREATE TABLE IF NOT EXIST MYSQL;\n",
    "\n",
    "DESCRIBE MYSQL;"
   ]
  },
  {
   "cell_type": "code",
   "execution_count": null,
   "id": "ea117aef",
   "metadata": {},
   "outputs": [],
   "source": [
    "# COPING THE SAME STRUCTURE OF ANOTHER TABLE\n",
    "\n",
    "CREATE TABLE IF NOT EXIST NEW_MYSQL AS (SELECT * FROM MYSQL_TABLE WHERE 1=2);\n"
   ]
  },
  {
   "cell_type": "code",
   "execution_count": null,
   "id": "3924f176",
   "metadata": {},
   "outputs": [],
   "source": [
    "# COPING THE SAME TABLE OF ANOTHER TABLE\n",
    "\n",
    "CREATE TABLE IF NOT EXIST RAJGURU AS (SELECT * FROM GAURAV);\n"
   ]
  },
  {
   "cell_type": "code",
   "execution_count": null,
   "id": "576c17a4",
   "metadata": {},
   "outputs": [],
   "source": [
    "# Nth HIGHEST SALARY\n",
    "\n",
    "SELECT * FROM PAYAL\n",
    "ORDER BY SALARY DESC\n",
    "LIMIT N-1,1\n"
   ]
  },
  {
   "cell_type": "code",
   "execution_count": null,
   "id": "7c30dcbc",
   "metadata": {},
   "outputs": [],
   "source": [
    "# WITHOUT USING LIMIT AND TOP \n",
    "\n",
    "SELECT * FROM EMPLOYEE E1\n",
    "WHERE N-1 = (SELECT COUNT(DISTINCT(E2.SALARY)) FROM EMPLOYEE E2 WHERE E2.SALARY > E1.SALARY) "
   ]
  },
  {
   "cell_type": "code",
   "execution_count": null,
   "id": "76bae42c",
   "metadata": {},
   "outputs": [],
   "source": [
    "# USING OFFSET\n",
    "\n",
    "SELECT * FROM EMPLOYEE \n",
    "ORDER BY SALARY DESC\n",
    "LIMIT 1 OFFSET N-1;"
   ]
  },
  {
   "cell_type": "code",
   "execution_count": null,
   "id": "56a7926d",
   "metadata": {},
   "outputs": [],
   "source": [
    "# FIND ALL EMPLOYEE WHO HOLDS MANAGER POSITION\n",
    "\n",
    "SELECT * FROM EMPLOYEE\n",
    "WHERE EMP_ID IN (SELECT MANAGER_ID FROM EMPLOYEE)\n"
   ]
  },
  {
   "cell_type": "code",
   "execution_count": null,
   "id": "87e83785",
   "metadata": {},
   "outputs": [],
   "source": [
    "# FIND NAME OF EMPLOYEE WHOS NAME BEGINS WITH A\n",
    "\n",
    "SELECT * FROM EMPLOYEE WHERE NAME LIKE 'A%'"
   ]
  },
  {
   "cell_type": "code",
   "execution_count": null,
   "id": "bd6e6512",
   "metadata": {},
   "outputs": [],
   "source": [
    "# SQL QUERY TO DISPLAY DATE\n",
    "\n",
    "# RETURN DATETIME IN YYYY-MM-DD (STRING)\n",
    "\n",
    "SELECT CURRENT_DATE\n",
    "SELECT CURRENT_DATE()\n",
    "SELECT CURDATE()\n",
    "\n",
    "# RETURN DATETIME IN YYYY-MM-DD-HH-MM-SS (STRING)\n",
    "\n",
    "SELECT DATE(NOW())\n",
    "SELECT DATE(CURRENT_TIMESTAMP())"
   ]
  },
  {
   "cell_type": "code",
   "execution_count": null,
   "id": "e0cf4c27",
   "metadata": {},
   "outputs": [],
   "source": [
    "# FIND ALTERNATE RECORD IN TABLE\n",
    "\n",
    "SELECT * FROM EMPLOYEE WHERE ID%2 == 0;\n",
    "\n",
    "SELECT * FROM EMPLOYEE WHERE ID%2 == 1;"
   ]
  },
  {
   "cell_type": "code",
   "execution_count": null,
   "id": "6bb03264",
   "metadata": {},
   "outputs": [],
   "source": [
    "# FETCH COMMON RECORD FROM 2 OR MORE TABLE\n",
    "\n",
    "SELECT * FROM EMPLOYEE\n",
    "INNER JOIN STUDENT\n",
    "ON EMPLOYEE.ID = STUDENT.ID"
   ]
  },
  {
   "cell_type": "code",
   "execution_count": null,
   "id": "91bd0f9c",
   "metadata": {},
   "outputs": [],
   "source": [
    "# FIND DUBLICATE RECORDS FROM THE TABLE\n",
    "\n",
    "SELECT NAME,COUNT(NAME),PLACE,COUNT(PLACE) FROM EMPLOYEE\n",
    "GROUP BY NAME,PLACE\n",
    "HAVING COUNT(NAME)>1,COUNT(PLACE)>1;\n"
   ]
  },
  {
   "cell_type": "code",
   "execution_count": null,
   "id": "5563cd1c",
   "metadata": {},
   "outputs": [],
   "source": [
    "# REMOVE DUBLICATE ROWS FROM THE TABLE\n",
    "\n",
    "DELETE E1 FROM EMPLOYEE E1\n",
    "INNER JOIN EMPLOYEE E2\n",
    "ON E1.ID < E2.ID AND E1.NAME = E2.NAME;"
   ]
  },
  {
   "cell_type": "code",
   "execution_count": null,
   "id": "f9abcc15",
   "metadata": {},
   "outputs": [],
   "source": [
    "# SELECTING DUBLICATE RECORDS\n",
    "\n",
    "SELECT * FROM EMPLOYEE E1\n",
    "INNER JOIN EMPLOYEE E2\n",
    "ON E1.ID < E2.ID AND E1.NAME = E2.NAME;"
   ]
  },
  {
   "cell_type": "code",
   "execution_count": null,
   "id": "9e7c4e85",
   "metadata": {},
   "outputs": [],
   "source": [
    "# FIND THE NTH RECORD FROM THE TABLE\n",
    "\n",
    "SELECT * FROM EMPLOYEE\n",
    "LIMIT N-1,1\n",
    "\n",
    "SELECT * FROM EMPLOYEE\n",
    "LIMIT 1 OFFSET N-1"
   ]
  },
  {
   "cell_type": "code",
   "execution_count": null,
   "id": "b63d6f1f",
   "metadata": {},
   "outputs": [],
   "source": [
    "# FIND FIRST FIVE AND LAST FIVE RECORDS\n",
    "\n",
    "SELECT * FROM EMPLOYEE\n",
    "ORDER BY ID\n",
    "LIMIT 5\n",
    "\n",
    "\n",
    "# LAST 5 RECORDS\n",
    "\n",
    "SELECT * FROM (SELECT * FROM EMPLOYEE ORDER BY ID DESC LIMIT 5)\n",
    "ORDER BY ID ;\n",
    "\n",
    "(SELECT * FROM EMPLOYEE ORDER BY ID DESC LIMIT 5)\n",
    "ORDER BY ID ASC;\n",
    "\n",
    "\n",
    "SELECT * FROM EMPLOYEE\n",
    "WHERE ID > (SELECT COUNT(ID) FROM EMPLOYEE)-5;\n",
    "\n",
    "SELECT * FROM EMPLOYEE\n",
    "WHERE ID > (SELECT MAX(ID)-5 FROM EMPLOYEE);\n",
    "\n"
   ]
  },
  {
   "cell_type": "code",
   "execution_count": null,
   "id": "17b93184",
   "metadata": {},
   "outputs": [],
   "source": [
    "# fIND FIRST AND LAST RECORD FROM TABLE\n",
    "\n",
    "\n",
    "\n",
    "SELECT * FROM EMPLOYEE\n",
    "LIMIT 1\n",
    "\n",
    "SELECT * FROM EMPLOYEE\n",
    "WHERE ID = (SELECT MIN(ID) FROM EMPLOYEE)\n",
    "\n",
    "# LAST RECORD\n",
    "\n",
    "SELECT * FROM EMPLOYEE \n",
    "ORDER BY ID DESC\n",
    "LIMIT 1\n",
    "\n",
    "SELECT * FROM EMPLOYEE\n",
    "WHERE ID = (SELECT MAX(ID) FROM EMPLOYEE)"
   ]
  },
  {
   "cell_type": "code",
   "execution_count": null,
   "id": "377269a5",
   "metadata": {},
   "outputs": [],
   "source": [
    "# FIND DISTINCT RECORD WITHOUT USING DISTINCT KEYWORD\n",
    "\n",
    "SELECT DEPARTMENT FROM EMPLOYEE\n",
    "GROUP BY DEPARTMENT \n",
    "\n",
    "# USING SET FUNCTION\n",
    "\n",
    "SELECT DEPARTMENT FROM EMPLOYEE\n",
    "UNION\n",
    "SELECT DEPARTMENT FROM EMPLOYEE\n"
   ]
  },
  {
   "cell_type": "code",
   "execution_count": null,
   "id": "d3156454",
   "metadata": {},
   "outputs": [],
   "source": [
    "# fIND MAXIMUM SALARY OF EACH DEPARTMENT AND ARRANGE IN ASCENDING ORDER OF COUNT OF EMPLOYEE\n",
    "\n",
    "SELECT MAX(SALARY),COUNT(ID) FROM EMPLOYEE\n",
    "GROUP BY DEPARTMENT\n",
    "ORDER BY COUNT(ID);\n"
   ]
  },
  {
   "cell_type": "code",
   "execution_count": null,
   "id": "0fb36e6b",
   "metadata": {},
   "outputs": [],
   "source": [
    "# HOW TO CHANGE THE DATATYPE OF COLUMN\n",
    "\n",
    "ALTER TABLE PAYAL MODIFY COLUMN NAME INT;"
   ]
  },
  {
   "cell_type": "code",
   "execution_count": null,
   "id": "70395c8b",
   "metadata": {},
   "outputs": [],
   "source": [
    "# FIND NUMBER OF MALE AMD FEMALE IN GENDER COLUMN IN SQL\n",
    "\n",
    "select\n",
    "\n",
    "sum(case when EmployeeGender='Male' then 1 else 0 end) as Total_Number_Of_Male_Employee,\n",
    "sum(case when EmployeeGender='Female' then 1 else 0 end) as Total_Number_Of_Female_Employee\n",
    "\n",
    "from DemoTable;"
   ]
  },
  {
   "cell_type": "code",
   "execution_count": null,
   "id": "42af98be",
   "metadata": {},
   "outputs": [],
   "source": [
    "# how to find employee who are also managers\n",
    "\n",
    "select e.name, m.name from emp e ,emp m\n",
    "where e.mgr_id = m.emp_id;"
   ]
  },
  {
   "cell_type": "code",
   "execution_count": null,
   "id": "650a0ed7",
   "metadata": {},
   "outputs": [],
   "source": [
    "# Duplicate rows in the table\n",
    "\n",
    "select * from emp a\n",
    "where row_id = (select max(row_id) from emp b where a.empno = b.empno)"
   ]
  },
  {
   "cell_type": "code",
   "execution_count": null,
   "id": "9afaf33d",
   "metadata": {},
   "outputs": [],
   "source": [
    "# delete duplicate rows\n",
    "\n",
    "delete from emp a\n",
    "where row_id != (select max(row_id) from emp b where a.empno = b.empno)"
   ]
  },
  {
   "cell_type": "markdown",
   "id": "b4407fa1",
   "metadata": {},
   "source": [
    "# Some more python questions"
   ]
  },
  {
   "cell_type": "code",
   "execution_count": 8,
   "id": "dc43275c",
   "metadata": {},
   "outputs": [
    {
     "name": "stdout",
     "output_type": "stream",
     "text": [
      "Enter a number : 3\n",
      "1\n",
      "2\n",
      "Fizz\n"
     ]
    }
   ],
   "source": [
    "# Fizz Buzz Method\n",
    "\n",
    "num = int(input('Enter a number : '))\n",
    "\n",
    "for i in range(1,num+1):\n",
    "    if i%3 == 0:\n",
    "        print('Fizz')\n",
    "    elif i%5 == 0:\n",
    "        print('Buzz')\n",
    "    elif i%5 == 0 and i%3 == 0:\n",
    "        print('FizzBuzz')\n",
    "    else:\n",
    "        print(i)\n"
   ]
  },
  {
   "cell_type": "code",
   "execution_count": 13,
   "id": "7f621d7f",
   "metadata": {
    "scrolled": true
   },
   "outputs": [
    {
     "name": "stdout",
     "output_type": "stream",
     "text": [
      "1\n",
      "2\n",
      "fizz\n",
      "4\n",
      "buzz\n",
      "fizz\n",
      "7\n",
      "8\n",
      "fizz\n",
      "buzz\n",
      "11\n",
      "fizz\n",
      "13\n",
      "14\n",
      "fizzbuzz\n"
     ]
    }
   ],
   "source": [
    "def fizz(num):\n",
    "    dic = {3:'fizz',5:'buzz'}\n",
    "    for i in range(1,num+1):\n",
    "        result = ''\n",
    "        for k,v in dic.items():\n",
    "            if i%k==0:\n",
    "                result = result+v\n",
    "        if not result :\n",
    "            result = i\n",
    "        print(result)\n",
    "\n",
    "fizz(15)"
   ]
  },
  {
   "cell_type": "code",
   "execution_count": 7,
   "id": "5eacd05a",
   "metadata": {},
   "outputs": [
    {
     "name": "stdout",
     "output_type": "stream",
     "text": [
      "{'a': 4, 's': 9, 'd': 8, 'f': 1}\n",
      "a\n"
     ]
    }
   ],
   "source": [
    "# Character occorance\n",
    "\n",
    "# Least repeating character in string\n",
    "\n",
    "string = 'aaaasssssssssddddddddf'\n",
    "\n",
    "lrc = {}\n",
    "\n",
    "for i in string:\n",
    "    if i in lrc:\n",
    "        lrc[i]=lrc[i]+1\n",
    "    else:\n",
    "        lrc[i] = 1\n",
    "\n",
    "print(lrc)   # Print the occorance of all the characters     \n",
    "result = min(lrc,key = lrc.get)    \n",
    "print(result)\n",
    "\n"
   ]
  },
  {
   "cell_type": "code",
   "execution_count": 11,
   "id": "882c8393",
   "metadata": {},
   "outputs": [
    {
     "name": "stdout",
     "output_type": "stream",
     "text": [
      "{'a': 4, 's': 9, 'd': 8, 'f': 1}\n",
      "4\n"
     ]
    }
   ],
   "source": [
    "# Display Count of any perticular element in a string \n",
    "\n",
    "string = 'aaaasssssssssddddddddf'\n",
    "\n",
    "search = 'a'\n",
    "\n",
    "lrc = {}\n",
    "\n",
    "\n",
    "\n",
    "for i in string:\n",
    "    if i in lrc:\n",
    "        lrc[i]=lrc[i]+1\n",
    "    else:\n",
    "        lrc[i] = 1\n",
    "        \n",
    "print(lrc)\n",
    "\n",
    "print(lrc[search])   \n",
    "\n",
    "\n"
   ]
  },
  {
   "cell_type": "code",
   "execution_count": 13,
   "id": "51b53d1f",
   "metadata": {},
   "outputs": [
    {
     "name": "stdout",
     "output_type": "stream",
     "text": [
      "Enter a Number : 11223\n",
      "(2, 1) (2, 2) (1, 3) "
     ]
    }
   ],
   "source": [
    "# You are given a string \"S\". Suppose a character \"c\"' occurs consecutively \"X\"times\n",
    "# in the string. Replace these consecutive occurrences of the character ''c\" with (X,c) in the string.\n",
    "# S should be a number\n",
    "\n",
    "from itertools import groupby\n",
    "\n",
    "\n",
    "for k, c in groupby(input(\"Enter a Number : \")):\n",
    "    print((len(list(c)), int(k)), end=' ')"
   ]
  },
  {
   "cell_type": "code",
   "execution_count": 1,
   "id": "acc827e9",
   "metadata": {},
   "outputs": [
    {
     "name": "stdout",
     "output_type": "stream",
     "text": [
      "7 7 7 7 7 7 7 \n",
      "6 6 6 6 6 6 \n",
      "5 5 5 5 5 \n",
      "4 4 4 4 \n",
      "3 3 3 \n",
      "2 2 \n",
      "1 \n"
     ]
    }
   ],
   "source": [
    "#Write a python code to print the follwing pattern.\n",
    "\n",
    "for i in range(7,0,-1):\n",
    "    for j in range(i,0,-1):   \n",
    "        print(i,end=' ')\n",
    "    print()    "
   ]
  },
  {
   "cell_type": "code",
   "execution_count": 2,
   "id": "a7891acb",
   "metadata": {},
   "outputs": [
    {
     "name": "stdout",
     "output_type": "stream",
     "text": [
      "Enter number of rows: 5\n",
      "1 2 3 4 5 \n",
      "1 2 3 4 \n",
      "1 2 3 \n",
      "1 2 \n",
      "1 \n"
     ]
    }
   ],
   "source": [
    "rows = int(input(\"Enter number of rows: \"))\n",
    "\n",
    "for i in range(rows, 0, -1):\n",
    "    for j in range(1, i+1):\n",
    "        print(j, end=\" \")\n",
    "    \n",
    "    print()"
   ]
  },
  {
   "cell_type": "code",
   "execution_count": 6,
   "id": "f1feb579",
   "metadata": {},
   "outputs": [
    {
     "name": "stdout",
     "output_type": "stream",
     "text": [
      "The reverse of number is  4321\n"
     ]
    }
   ],
   "source": [
    "# Reversing a number\n",
    "\n",
    "num = 1234\n",
    "temp = 1234\n",
    "\n",
    "rev = 0\n",
    "\n",
    "while temp:\n",
    "    rem = temp%10\n",
    "    rev = rev*10 + rem\n",
    "    temp = temp//10\n",
    "\n",
    "print('The reverse of number is ' ,rev)"
   ]
  },
  {
   "cell_type": "code",
   "execution_count": 10,
   "id": "3ad10169",
   "metadata": {},
   "outputs": [
    {
     "data": {
      "text/plain": [
       "'paya'"
      ]
     },
     "execution_count": 10,
     "metadata": {},
     "output_type": "execute_result"
    }
   ],
   "source": [
    "# Remove a character from a string\n",
    "\n",
    "name = 'payal'\n",
    "\n",
    "name.replace('l','')\n",
    "\n"
   ]
  },
  {
   "cell_type": "code",
   "execution_count": 11,
   "id": "647558ec",
   "metadata": {},
   "outputs": [
    {
     "name": "stdout",
     "output_type": "stream",
     "text": [
      "Please enter String 1 : payal\n",
      "Please enter String 2 : ayalp\n",
      "Anagram\n"
     ]
    }
   ],
   "source": [
    "# Anagram words containing same letters and characters\n",
    "\n",
    "def anagramCheck(str1, str2):\n",
    "    if (sorted(str1) == sorted(str2)) : \n",
    "        return True \n",
    "    else :\n",
    "        return False \n",
    "    \n",
    "str1 = input(\"Please enter String 1 : \")\n",
    "str2 = input(\"Please enter String 2 : \")\n",
    "\n",
    "if anagramCheck(str1,str2):\n",
    "    print(\"Anagram\")\n",
    "else:\n",
    "    print(\"Not an anagram\")\n",
    " "
   ]
  },
  {
   "cell_type": "code",
   "execution_count": 15,
   "id": "2b7370d4",
   "metadata": {},
   "outputs": [
    {
     "name": "stdout",
     "output_type": "stream",
     "text": [
      "Enter a string : payal\n",
      "aalpy\n",
      "yplaa\n"
     ]
    }
   ],
   "source": [
    "# Sort characters of string in sorted order\n",
    "\n",
    "mystring = input('Enter a string : ')\n",
    "\n",
    "ass_new = ''.join(sorted(mystring))\n",
    "\n",
    "desc_new = ''.join(sorted(mystring ,reverse = True))\n",
    "\n",
    "\n",
    "print(ass_new)\n",
    "print(desc_new)"
   ]
  },
  {
   "cell_type": "code",
   "execution_count": 18,
   "id": "2264e53f",
   "metadata": {},
   "outputs": [],
   "source": [
    "# Find missing number in an array\n",
    "\n",
    "array = list(range(0,101))\n",
    "check = list(range(0,101))\n",
    "\n",
    "missing = []\n",
    "\n",
    "for i in array:\n",
    "    if i not in check:\n",
    "        print(i)\n",
    "    "
   ]
  },
  {
   "cell_type": "code",
   "execution_count": 19,
   "id": "ffacb23f",
   "metadata": {},
   "outputs": [
    {
     "name": "stdout",
     "output_type": "stream",
     "text": [
      "3\n"
     ]
    }
   ],
   "source": [
    "# Occorance of word in list\n",
    "\n",
    "weekdays = ['sun','mon','tue','wed','thu','fri','sun','mon','mon']\n",
    "\n",
    "print(weekdays.count('mon'))"
   ]
  },
  {
   "cell_type": "code",
   "execution_count": 22,
   "id": "fd860570",
   "metadata": {},
   "outputs": [
    {
     "name": "stdout",
     "output_type": "stream",
     "text": [
      "Enter string:payal\n",
      "Number of vowels are:\n",
      "2\n"
     ]
    }
   ],
   "source": [
    "# Python Program to Count the Number of Vowels in a String\n",
    "\n",
    "string= input(\"Enter string:\")\n",
    "\n",
    "vowels=0\n",
    "\n",
    "for i in string:\n",
    "    if(i=='a' or i=='e' or i=='i' or i=='o' or i=='u' or i=='A' or i=='E' or i=='I' or i=='O' or i=='U'):\n",
    "        vowels=vowels+1\n",
    "\n",
    "print(\"Number of vowels are:\")\n",
    "print(vowels)\n",
    "\n"
   ]
  },
  {
   "cell_type": "code",
   "execution_count": 26,
   "id": "04f11954",
   "metadata": {},
   "outputs": [
    {
     "name": "stdout",
     "output_type": "stream",
     "text": [
      "Enter a String : payal\n",
      "Vowels : 2 Consonants: 3\n"
     ]
    }
   ],
   "source": [
    "# Count of vowels and consonants\n",
    "\n",
    "# taking input from the user\n",
    "\n",
    "string = input('Enter a String : ')\n",
    "\n",
    "vowels = 0 \n",
    "\n",
    "consonants = 0 \n",
    "\n",
    "for i in string:\n",
    "    if i in ('a','e','i','o','u','A','E','I','O','U'):\n",
    "        vowels+=1\n",
    "    elif i.isalpha():\n",
    "        consonants+=1 \n",
    "\n",
    "print('Vowels :',vowels,'Consonants:',consonants)"
   ]
  },
  {
   "cell_type": "code",
   "execution_count": null,
   "id": "e221d646",
   "metadata": {},
   "outputs": [],
   "source": []
  }
 ],
 "metadata": {
  "kernelspec": {
   "display_name": "Python 3",
   "language": "python",
   "name": "python3"
  },
  "language_info": {
   "codemirror_mode": {
    "name": "ipython",
    "version": 3
   },
   "file_extension": ".py",
   "mimetype": "text/x-python",
   "name": "python",
   "nbconvert_exporter": "python",
   "pygments_lexer": "ipython3",
   "version": "3.8.8"
  }
 },
 "nbformat": 4,
 "nbformat_minor": 5
}
